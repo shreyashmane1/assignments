{
 "cells": [
  {
   "cell_type": "code",
   "execution_count": null,
   "id": "8c2e6ce0-c04e-456b-9fd5-d5de94fb5cf7",
   "metadata": {},
   "outputs": [],
   "source": [
    "#  1 Explain the significance of Python keywords and provide examples of five keywords.\n",
    "\n",
    "# --> Python keywords are reserved words that have special meanings and are used to define\n",
    "# the syntax and structure of the Python language. These keywords cannot be used as\n",
    "# identifiers (variable names, function names, etc.) because they are already predefined \n",
    "# within the language. Understanding and using these keywords correctly is essential for writing valid Python code.\n"
   ]
  },
  {
   "cell_type": "code",
   "execution_count": 6,
   "id": "e7a09683-f245-44f9-a92f-a6c29e8a856c",
   "metadata": {},
   "outputs": [
    {
     "name": "stdout",
     "output_type": "stream",
     "text": [
      "9\n"
     ]
    }
   ],
   "source": [
    "# example of keywords in python\n",
    "# 1) print\n",
    "a = 9 \n",
    "print(a)"
   ]
  },
  {
   "cell_type": "code",
   "execution_count": 7,
   "id": "b47c8f94-5a9d-478c-bbb9-d2de4109280a",
   "metadata": {},
   "outputs": [
    {
     "data": {
      "text/plain": [
       "int"
      ]
     },
     "execution_count": 7,
     "metadata": {},
     "output_type": "execute_result"
    }
   ],
   "source": [
    "# 2) type\n",
    "n = 1000\n",
    "type(n)"
   ]
  },
  {
   "cell_type": "code",
   "execution_count": 8,
   "id": "4d1ff4fe-9dfc-48ed-a900-a08c7217e3d4",
   "metadata": {},
   "outputs": [
    {
     "name": "stdout",
     "output_type": "stream",
     "text": [
      "x is positive\n"
     ]
    }
   ],
   "source": [
    "# 3) if\n",
    "x = 10\n",
    "if x > 0:\n",
    "    print(\"x is positive\")\n"
   ]
  },
  {
   "cell_type": "code",
   "execution_count": 9,
   "id": "5e60120d-f3b9-44f0-9223-3c02d7ccbf4b",
   "metadata": {},
   "outputs": [
    {
     "name": "stdout",
     "output_type": "stream",
     "text": [
      "apple\n",
      "banana\n",
      "cherry\n"
     ]
    }
   ],
   "source": [
    "# 4) for\n",
    "fruits = [\"apple\", \"banana\", \"cherry\"]\n",
    "for fruit in fruits:\n",
    "    print(fruit)\n"
   ]
  },
  {
   "cell_type": "code",
   "execution_count": 10,
   "id": "d6fec68f-e2ce-49f6-b9ca-39b385c37f9a",
   "metadata": {},
   "outputs": [
    {
     "name": "stdout",
     "output_type": "stream",
     "text": [
      "At least one of the conditions is true\n"
     ]
    }
   ],
   "source": [
    "# 5) or\n",
    "x = 5\n",
    "y = 10\n",
    "\n",
    "if x > 0 or y < 0:\n",
    "    print(\"At least one of the conditions is true\")\n",
    "else:\n",
    "    print(\"Both conditions are false\")\n"
   ]
  },
  {
   "cell_type": "raw",
   "id": "fc6592a0-9224-4786-9d78-41bcba766b8a",
   "metadata": {
    "tags": []
   },
   "source": [
    "# 2 Descri0e the rules for defining identifiers in Python and provide an example\n",
    "\n",
    "# In Python, identifiers are names given to entities like variables, functions, classes, etc. Here are the rules for defining identifiers in Python:\n",
    "\n",
    "# 1. **Valid Characters**: Identifiers can consist of alphanumeric characters (a-z, A-Z, 0-9) and the underscore (_) character. They cannot start with a digit.\n",
    "\n",
    "# 2. **Case Sensitivity**: Python is case-sensitive, so `myVar`, `MyVar`, and `MYVAR` are all different identifiers.\n",
    "\n",
    "# 3. **Reserved Words**: Identifiers cannot be a reserved word (also known as keywords) in Python. Reserved words have special meanings and are used to define the syntax of the language.\n",
    "\n",
    "# 4. **Length**: There is no limit on the length of an identifier, but it's good practice to keep them short and descriptive.\n",
    "\n",
    "# 5. **Convention**: It's common to use snake_case for variable names (e.g., `my_variable`), and lowercase with underscores for function and method names. For class names, the convention is to use CamelCase (starting with a capital letter for each word, without spaces) (e.g., `MyClass`).\n",
    "\n",
    "# Here's an example demonstrating valid and invalid identifiers:\n",
    "\n"
   ]
  },
  {
   "cell_type": "raw",
   "id": "944dc897-04c2-4f72-8d54-34b655417f3e",
   "metadata": {},
   "source": [
    "# valid identifiers\n",
    "my_variable = 10\n",
    "MyClass = \"Example\"\n",
    "snake_case_identifier = True\n",
    "my_function = lambda x: x**2\n",
    "\n",
    "# Invalid Identifiers\n",
    "123abc = \"Invalid\"  # Cannot start with a digit\n",
    "if = 5  # Cannot use a reserved word as an identifier\n",
    "my-variable = 3  # Cannot use hyphens in identifiers\n",
    "\n",
    "\n",
    "In this example, `my_variable`, `MyClass`, `snake_case_identifier`, and `my_function` are all valid identifiers, whereas `123abc`, `if`, and `my-variable` are invalid due to violating one or more of the rules mentioned above."
   ]
  },
  {
   "cell_type": "raw",
   "id": "a7da5d95-1e31-47dc-827c-114e8cfaf5b8",
   "metadata": {},
   "source": [
    "# 3 What are comments in Python, and why are they useful6 Provide an example\n",
    "\n",
    "In Python, comments are annotations within the code that are ignored by the Python interpreter during execution. They are used to add explanatory notes or to temporarily disable certain parts of the code. Comments are essential for improving code readability, aiding in understanding the code's logic, and for documenting code for future reference or for collaboration with other developers."
   ]
  },
  {
   "cell_type": "code",
   "execution_count": 20,
   "id": "7b9d0fcf-609a-4fa3-a1a2-f8457b161d13",
   "metadata": {},
   "outputs": [
    {
     "data": {
      "text/plain": [
       "15"
      ]
     },
     "execution_count": 20,
     "metadata": {},
     "output_type": "execute_result"
    }
   ],
   "source": [
    "# example\n",
    "a = 6\n",
    "b = 9\n",
    "a + b # + operator being used to add the two numbers "
   ]
  },
  {
   "cell_type": "markdown",
   "id": "a103fc34-3f87-467b-8bf6-ed60617e0f0b",
   "metadata": {},
   "source": [
    "# 4 Why is proper indentation important in Python?\n",
    "# Proper indentation in Python is important because it defines the structure of code blocks. It's not just a matter of style; it's a fundamental aspect of the language's syntax. Correct indentation enhances readability, ensures code clarity, and maintains code integrity by accurately representing the hierarchy of nested blocks, such as loops, conditional statements, and function definitions. It helps prevent syntax errors, promotes consistency in coding style, and makes code easier to understand, maintain, and debug.\n"
   ]
  },
  {
   "cell_type": "markdown",
   "id": "60c51a70-20ce-4324-8dd0-47ac9c5af09e",
   "metadata": {
    "tags": []
   },
   "source": [
    "# 5 What happens if indentation is incorrect in Python?\n",
    "If indentation is incorrect in Python, it leads to syntax errors or changes in the logic of the code. Python relies on indentation to define the structure of code blocks, such as loops, conditional statements, and function definitions. Incorrect indentation can cause the interpreter to misinterpret the code, resulting in unexpected behavior or syntax errors like IndentationError or unexpected indentation. Inconsistencies in indentation can also make the code less readable, harder to maintain, and prone to errors. Therefore, ensuring proper indentation is crucial for writing valid Python code."
   ]
  },
  {
   "cell_type": "code",
   "execution_count": null,
   "id": "b9a892dd-2589-4d00-b0d1-21a2b65fd0f1",
   "metadata": {},
   "outputs": [],
   "source": [
    "# 6 Differentiate between expression and statement in Python with examples\n",
    "Expression:\n",
    "An expression is a combination of values, variables, operators, and function calls that evaluates to a single value.\n",
    "Expressions can be simple, like 2 + 3, or complex, involving multiple operations.\n",
    "x = 5             # Assignment expression\n",
    "y = 2 * (x + 3)   # Arithmetic expression\n",
    "z = len(\"hello\")  # Function call expression\n",
    "\n",
    "Statement:\n",
    "A statement is a complete line of code that performs an action. It can include expressions but can also involve control flow, loops, function definitions, etc.\n",
    "Statements in Python typically end with a newline character.\n",
    "Examples of statements:\n",
    "x = 5                # Assignment statement\n",
    "if x > 0:            # If statement (control flow)\n",
    "    print(\"Positive\") \n",
    "for i in range(5):   # For loop statement\n",
    "    print(i)\n",
    "def my_function():   # Function definition statement\n",
    "    return \"Hello\""
   ]
  },
  {
   "cell_type": "code",
   "execution_count": null,
   "id": "a4453532-5ca9-46f2-ad3c-2996b0a55751",
   "metadata": {},
   "outputs": [],
   "source": []
  }
 ],
 "metadata": {
  "kernelspec": {
   "display_name": "Python 3 (ipykernel)",
   "language": "python",
   "name": "python3"
  },
  "language_info": {
   "codemirror_mode": {
    "name": "ipython",
    "version": 3
   },
   "file_extension": ".py",
   "mimetype": "text/x-python",
   "name": "python",
   "nbconvert_exporter": "python",
   "pygments_lexer": "ipython3",
   "version": "3.10.8"
  }
 },
 "nbformat": 4,
 "nbformat_minor": 5
}
