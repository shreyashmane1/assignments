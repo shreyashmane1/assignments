{
 "cells": [
  {
   "cell_type": "code",
   "execution_count": 3,
   "id": "12712b8c-a850-4c73-8598-1e79685ec766",
   "metadata": {},
   "outputs": [
    {
     "name": "stdout",
     "output_type": "stream",
     "text": [
      "15\n"
     ]
    }
   ],
   "source": [
    "# PYTHON OPERATORS\n",
    "# 1 calculate the sum of two numbers\n",
    "\n",
    "num1 = 10\n",
    "num2 = 5\n",
    "\n",
    "add = num1 + num2\n",
    "print(add)"
   ]
  },
  {
   "cell_type": "code",
   "execution_count": 4,
   "id": "1440cde9-26c0-48e9-9072-2a4eca7d5fbc",
   "metadata": {},
   "outputs": [
    {
     "name": "stdout",
     "output_type": "stream",
     "text": [
      "5\n"
     ]
    }
   ],
   "source": [
    "#calculate the difference\n",
    "num1 = 10\n",
    "num2 = 5\n",
    "\n",
    "substract = num1 - num2\n",
    "print(substract)"
   ]
  },
  {
   "cell_type": "code",
   "execution_count": 5,
   "id": "23e7c58a-45f8-418d-9501-a97a944bd963",
   "metadata": {},
   "outputs": [
    {
     "name": "stdout",
     "output_type": "stream",
     "text": [
      "50\n"
     ]
    }
   ],
   "source": [
    "# calculate product of two numbers\n",
    "num1 = 10\n",
    "num2 = 5\n",
    "\n",
    "multi = num1 * num2\n",
    "print(multi)\n"
   ]
  },
  {
   "cell_type": "code",
   "execution_count": 6,
   "id": "597e4f22-46da-42e2-92f1-8671bd796aec",
   "metadata": {},
   "outputs": [
    {
     "name": "stdout",
     "output_type": "stream",
     "text": [
      "2.0\n"
     ]
    }
   ],
   "source": [
    "# calculate the quotient of two numbers\n",
    "num1 = 10\n",
    "num2 = 5\n",
    "\n",
    "quotient = num1 / num2\n",
    "print(quotient)\n"
   ]
  },
  {
   "cell_type": "code",
   "execution_count": 1,
   "id": "81357f93-35e4-4edf-a6e4-c8ea7976d040",
   "metadata": {},
   "outputs": [
    {
     "name": "stdout",
     "output_type": "stream",
     "text": [
      "15\n",
      "12\n",
      "24\n",
      "6.0\n"
     ]
    }
   ],
   "source": [
    "# 2 Perform various assignment operations on a variable \n",
    "x = 10\n",
    "\n",
    "# Addition assignment\n",
    "x += 5 \n",
    "print(x)\n",
    "\n",
    "# Subtraction assignment\n",
    "x -= 3  \n",
    "print(x)  \n",
    "\n",
    "# Multiplication assignment\n",
    "x *= 2\n",
    "print(x) \n",
    "\n",
    "# Division assignment\n",
    "x /= 4  \n",
    "print(x)\n",
    "\n"
   ]
  },
  {
   "cell_type": "code",
   "execution_count": 2,
   "id": "9553cf55-dbb5-4b0f-83de-a21ec6e3734d",
   "metadata": {},
   "outputs": [
    {
     "data": {
      "text/plain": [
       "True"
      ]
     },
     "execution_count": 2,
     "metadata": {},
     "output_type": "execute_result"
    }
   ],
   "source": [
    "# 3 Compare two numbers and print the results.\n",
    "\n",
    "2 == 2"
   ]
  },
  {
   "cell_type": "code",
   "execution_count": 3,
   "id": "4eb2f09b-1acb-4f51-8c49-f66d45e8ed40",
   "metadata": {},
   "outputs": [
    {
     "data": {
      "text/plain": [
       "False"
      ]
     },
     "execution_count": 3,
     "metadata": {},
     "output_type": "execute_result"
    }
   ],
   "source": [
    "2 != 2 "
   ]
  },
  {
   "cell_type": "code",
   "execution_count": 4,
   "id": "7f220151-b7af-452a-81db-4577a8304a20",
   "metadata": {},
   "outputs": [
    {
     "data": {
      "text/plain": [
       "True"
      ]
     },
     "execution_count": 4,
     "metadata": {},
     "output_type": "execute_result"
    }
   ],
   "source": [
    "6 != 2"
   ]
  },
  {
   "cell_type": "code",
   "execution_count": 5,
   "id": "2c3b3be1-e211-4d9e-8782-b7ad95ffff6d",
   "metadata": {},
   "outputs": [
    {
     "data": {
      "text/plain": [
       "True"
      ]
     },
     "execution_count": 5,
     "metadata": {},
     "output_type": "execute_result"
    }
   ],
   "source": [
    "7 > 2"
   ]
  },
  {
   "cell_type": "code",
   "execution_count": 6,
   "id": "845eee80-c8f4-44b9-a198-f8da0e5d5d4e",
   "metadata": {},
   "outputs": [
    {
     "data": {
      "text/plain": [
       "False"
      ]
     },
     "execution_count": 6,
     "metadata": {},
     "output_type": "execute_result"
    }
   ],
   "source": [
    "7 < 2"
   ]
  },
  {
   "cell_type": "code",
   "execution_count": 7,
   "id": "44aa6ac8-317b-45c6-8bc3-91c8d487347a",
   "metadata": {},
   "outputs": [
    {
     "data": {
      "text/plain": [
       "True"
      ]
     },
     "execution_count": 7,
     "metadata": {},
     "output_type": "execute_result"
    }
   ],
   "source": [
    "10 >= 9"
   ]
  },
  {
   "cell_type": "code",
   "execution_count": 8,
   "id": "a896fcec-553a-4c23-a825-46cf3b112e4d",
   "metadata": {},
   "outputs": [
    {
     "data": {
      "text/plain": [
       "False"
      ]
     },
     "execution_count": 8,
     "metadata": {},
     "output_type": "execute_result"
    }
   ],
   "source": [
    "10 <= 9"
   ]
  },
  {
   "cell_type": "code",
   "execution_count": 1,
   "id": "d4841e4b-bfe9-4b26-98b6-2224bb4b31e7",
   "metadata": {},
   "outputs": [
    {
     "name": "stdout",
     "output_type": "stream",
     "text": [
      "Both x and y are greater than 0\n",
      "x is not equal to 0\n"
     ]
    }
   ],
   "source": [
    "# 4 check conditions using logical operators\n",
    "\n",
    "# AND operator\n",
    "x = 5\n",
    "y = 10\n",
    "if x > 0 and y > 0:\n",
    "    print(\"Both x and y are greater than 0\")\n",
    "\n",
    "# OR operator\n",
    "if x < 0 or y < 0:\n",
    "    print(\"At least one of x or y is less than 0\")\n",
    "\n",
    "# NOT operator\n",
    "if not(x == 0):\n",
    "    print(\"x is not equal to 0\")\n"
   ]
  },
  {
   "cell_type": "code",
   "execution_count": 2,
   "id": "a3ea0f79-2bf8-4109-8ed8-bcf23ee5bf4c",
   "metadata": {},
   "outputs": [
    {
     "data": {
      "text/plain": [
       "False"
      ]
     },
     "execution_count": 2,
     "metadata": {},
     "output_type": "execute_result"
    }
   ],
   "source": [
    "# 5 Check the identity of variables\n",
    "\n",
    "a = 2 \n",
    "b = 3\n",
    "a is b"
   ]
  },
  {
   "cell_type": "code",
   "execution_count": 3,
   "id": "0d754e40-5f37-44ee-bedf-33994ef38294",
   "metadata": {},
   "outputs": [
    {
     "data": {
      "text/plain": [
       "True"
      ]
     },
     "execution_count": 3,
     "metadata": {},
     "output_type": "execute_result"
    }
   ],
   "source": [
    "a = 5\n",
    "b = a\n",
    "a is b"
   ]
  },
  {
   "cell_type": "code",
   "execution_count": 13,
   "id": "3716aadc-307b-4cda-8ae3-8a06f2a45ee6",
   "metadata": {},
   "outputs": [
    {
     "name": "stdout",
     "output_type": "stream",
     "text": [
      "Bitwise AND: 2\n",
      "Bitwise OR: 14\n",
      "Bitwise XOR: 12\n",
      "Bitwise NOT of x: -11\n",
      "Bitwise NOT of y: -7\n",
      "Left shift of x by 2 bits: 40\n",
      "Right shift of y by 1 bit: 3\n"
     ]
    }
   ],
   "source": [
    "# 6 Perform bitwise operations on any two integers\n",
    "# Define two integers\n",
    "x = 10    # Binary: 1010\n",
    "y = 6     # Binary: 0110\n",
    "\n",
    "# Bitwise AND\n",
    "result_and = x & y  # Binary: 0010 (Decimal: 2)\n",
    "print(\"Bitwise AND:\", result_and)\n",
    "\n",
    "# Bitwise OR\n",
    "result_or = x | y   # Binary: 1110 (Decimal: 14)\n",
    "print(\"Bitwise OR:\", result_or)\n",
    "\n",
    "# Bitwise XOR\n",
    "result_xor = x ^ y  # Binary: 1100 (Decimal: 12)\n",
    "print(\"Bitwise XOR:\", result_xor)\n",
    "\n",
    "# Bitwise NOT\n",
    "result_not_x = ~x   # Binary: -1011 (Decimal: -11)\n",
    "result_not_y = ~y   # Binary: -0111 (Decimal: -7)\n",
    "print(\"Bitwise NOT of x:\", result_not_x)\n",
    "print(\"Bitwise NOT of y:\", result_not_y)\n",
    "\n",
    "# Left Shift\n",
    "result_left_shift = x << 2  # Binary: 101000 (Decimal: 40)\n",
    "print(\"Left shift of x by 2 bits:\", result_left_shift)\n",
    "\n",
    "# Right Shift\n",
    "result_right_shift = y >> 1  # Binary: 0001 (Decimal: 1)\n",
    "print(\"Right shift of y by 1 bit:\", result_right_shift)\n"
   ]
  },
  {
   "cell_type": "code",
   "execution_count": 14,
   "id": "07ab855f-4bb5-4882-9880-77c57277e7ca",
   "metadata": {},
   "outputs": [
    {
     "data": {
      "text/plain": [
       "-10"
      ]
     },
     "execution_count": 14,
     "metadata": {},
     "output_type": "execute_result"
    }
   ],
   "source": [
    "  # 7 use unary operators to change the sign of a number\n",
    "~9"
   ]
  },
  {
   "cell_type": "code",
   "execution_count": 15,
   "id": "005b75db-adff-4e89-8cc3-ec85b9cf5e89",
   "metadata": {},
   "outputs": [
    {
     "name": "stdout",
     "output_type": "stream",
     "text": [
      "The number is: Positive\n"
     ]
    }
   ],
   "source": [
    "#8 Use the ternary operator to assign values based on conditions\n",
    "# Define a condition\n",
    "x = 10\n",
    "\n",
    "# Assign a value based on the condition using the ternary operator\n",
    "result = \"Positive\" if x > 0 else \"Non-positive\"\n",
    "\n",
    "print(\"The number is:\", result)\n"
   ]
  },
  {
   "cell_type": "code",
   "execution_count": null,
   "id": "26519942-fce2-4dba-8cb1-21db2f088714",
   "metadata": {},
   "outputs": [],
   "source": []
  }
 ],
 "metadata": {
  "kernelspec": {
   "display_name": "Python 3 (ipykernel)",
   "language": "python",
   "name": "python3"
  },
  "language_info": {
   "codemirror_mode": {
    "name": "ipython",
    "version": 3
   },
   "file_extension": ".py",
   "mimetype": "text/x-python",
   "name": "python",
   "nbconvert_exporter": "python",
   "pygments_lexer": "ipython3",
   "version": "3.10.8"
  }
 },
 "nbformat": 4,
 "nbformat_minor": 5
}
