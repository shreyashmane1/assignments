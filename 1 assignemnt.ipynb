{
 "cells": [
  {
   "cell_type": "code",
   "execution_count": 1,
   "id": "31d4f9ef-314d-4d62-9eaa-b8453acfd895",
   "metadata": {},
   "outputs": [],
   "source": [
    "#python type conversion"
   ]
  },
  {
   "cell_type": "code",
   "execution_count": 2,
   "id": "98ef5ba8-6372-4a41-8132-9c287af1d06c",
   "metadata": {},
   "outputs": [],
   "source": [
    "# 1. convert a integer to a floating point number\n",
    "#code for it"
   ]
  },
  {
   "cell_type": "code",
   "execution_count": 3,
   "id": "380fef0d-41b5-4630-8325-9572905291a0",
   "metadata": {},
   "outputs": [],
   "source": [
    "a = 5"
   ]
  },
  {
   "cell_type": "code",
   "execution_count": 4,
   "id": "7985f9f8-c028-4352-a567-acc581b1a6f1",
   "metadata": {},
   "outputs": [],
   "source": [
    "A = float(a)"
   ]
  },
  {
   "cell_type": "code",
   "execution_count": 5,
   "id": "c641c286-6d89-4f34-b4d7-62dc0bc734dc",
   "metadata": {},
   "outputs": [
    {
     "name": "stdout",
     "output_type": "stream",
     "text": [
      "5.0\n"
     ]
    }
   ],
   "source": [
    "print(A)"
   ]
  },
  {
   "cell_type": "code",
   "execution_count": 6,
   "id": "caf9b1dc-96bd-4dea-a9c6-fd06c5fbd24d",
   "metadata": {},
   "outputs": [],
   "source": [
    "# 2 convert a float to an integer"
   ]
  },
  {
   "cell_type": "code",
   "execution_count": 7,
   "id": "365b2850-228d-414b-a932-0e32f535fd55",
   "metadata": {},
   "outputs": [],
   "source": [
    "b = 7.0"
   ]
  },
  {
   "cell_type": "code",
   "execution_count": 8,
   "id": "ea13f177-20f2-4c04-a805-9b293d7a95af",
   "metadata": {},
   "outputs": [],
   "source": [
    "B = int(b)"
   ]
  },
  {
   "cell_type": "code",
   "execution_count": 9,
   "id": "1156d35e-f692-4aee-a07d-6b99f2be6f90",
   "metadata": {},
   "outputs": [
    {
     "name": "stdout",
     "output_type": "stream",
     "text": [
      "7\n"
     ]
    }
   ],
   "source": [
    "print(B)"
   ]
  },
  {
   "cell_type": "code",
   "execution_count": 10,
   "id": "a2fb8510-0be0-4875-a63a-3bcccbe5f432",
   "metadata": {},
   "outputs": [],
   "source": [
    "# 3 convert an integer to a string"
   ]
  },
  {
   "cell_type": "code",
   "execution_count": 13,
   "id": "345644d2-4f1e-408a-9aac-7d661d2e6a5d",
   "metadata": {},
   "outputs": [],
   "source": [
    "c = 45"
   ]
  },
  {
   "cell_type": "code",
   "execution_count": 17,
   "id": "0b6e06da-fa26-4e07-807d-50ede0383f35",
   "metadata": {},
   "outputs": [],
   "source": [
    "C = str(c)"
   ]
  },
  {
   "cell_type": "code",
   "execution_count": 18,
   "id": "e56b1b36-c4ca-40cc-a970-292e332eb855",
   "metadata": {},
   "outputs": [
    {
     "name": "stdout",
     "output_type": "stream",
     "text": [
      "45\n"
     ]
    }
   ],
   "source": [
    "print(C)"
   ]
  },
  {
   "cell_type": "code",
   "execution_count": 1,
   "id": "7e56b121-2f64-4d21-9564-5a06380b6b4b",
   "metadata": {},
   "outputs": [],
   "source": [
    "# 4 convert a list to a tuple"
   ]
  },
  {
   "cell_type": "code",
   "execution_count": 2,
   "id": "e09d2c2a-fa01-42dd-a456-eba9479234b8",
   "metadata": {},
   "outputs": [
    {
     "name": "stdout",
     "output_type": "stream",
     "text": [
      "(1, 2, 3, 4, 5)\n"
     ]
    }
   ],
   "source": [
    "my_list = [1, 2, 3, 4, 5]\n",
    "my_tuple = tuple(my_list)\n",
    "print(my_tuple)\n"
   ]
  },
  {
   "cell_type": "code",
   "execution_count": 3,
   "id": "45177e64-27af-4534-acd6-df2df6410721",
   "metadata": {},
   "outputs": [
    {
     "name": "stdout",
     "output_type": "stream",
     "text": [
      "[1, 2, 3, 4, 5]\n"
     ]
    }
   ],
   "source": [
    "#5 convert a tuple to a list\n",
    "my_tuple = (1, 2, 3, 4, 5)\n",
    "my_list = list(my_tuple)\n",
    "print(my_list)\n"
   ]
  },
  {
   "cell_type": "code",
   "execution_count": 5,
   "id": "75142f82-19cf-47fc-827f-70533015e56a",
   "metadata": {},
   "outputs": [
    {
     "name": "stdout",
     "output_type": "stream",
     "text": [
      "0b1010\n"
     ]
    }
   ],
   "source": [
    "#6 Convert a decimal number to binary.\n",
    "a = 10\n",
    "A = bin(a)\n",
    "print(A)\n"
   ]
  },
  {
   "cell_type": "code",
   "execution_count": 1,
   "id": "8d9c983b-f6fd-4792-ba23-4a34feae6694",
   "metadata": {},
   "outputs": [
    {
     "name": "stdout",
     "output_type": "stream",
     "text": [
      "True\n"
     ]
    }
   ],
   "source": [
    "#7 convert a non zero number to boolean\n",
    "number = 42\n",
    "boolean_value = bool(number)\n",
    "print(boolean_value)\n"
   ]
  },
  {
   "cell_type": "code",
   "execution_count": null,
   "id": "e0bd181a-c62b-4fd3-a9a3-fc70d48f7696",
   "metadata": {},
   "outputs": [],
   "source": []
  }
 ],
 "metadata": {
  "kernelspec": {
   "display_name": "Python 3 (ipykernel)",
   "language": "python",
   "name": "python3"
  },
  "language_info": {
   "codemirror_mode": {
    "name": "ipython",
    "version": 3
   },
   "file_extension": ".py",
   "mimetype": "text/x-python",
   "name": "python",
   "nbconvert_exporter": "python",
   "pygments_lexer": "ipython3",
   "version": "3.10.8"
  }
 },
 "nbformat": 4,
 "nbformat_minor": 5
}
