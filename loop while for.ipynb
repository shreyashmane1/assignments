{
 "cells": [
  {
   "cell_type": "code",
   "execution_count": 3,
   "id": "4b72e158-090d-4ee3-8a40-91bc3ce25b2e",
   "metadata": {},
   "outputs": [
    {
     "name": "stdout",
     "output_type": "stream",
     "text": [
      "1\n",
      "2\n",
      "3\n",
      "4\n",
      "5\n"
     ]
    }
   ],
   "source": [
    "# 1.Print number from 1 to 5 using a while loop.\n",
    "i=1\n",
    "while i<=5:\n",
    "    print(i)\n",
    "    i=i+1\n",
    "    "
   ]
  },
  {
   "cell_type": "code",
   "execution_count": 3,
   "id": "054a3703-9de1-4b49-b541-db280276d01d",
   "metadata": {},
   "outputs": [
    {
     "name": "stdout",
     "output_type": "stream",
     "text": [
      "55\n"
     ]
    }
   ],
   "source": [
    "# 2.Calclate the sum of number from 1 to 10 using a while loop.\n",
    "\n",
    "plus=0\n",
    "i=1\n",
    "while i<=10:\n",
    "    plus=plus+i\n",
    "    \n",
    "    i=i+1\n",
    "print(plus)    "
   ]
  },
  {
   "cell_type": "code",
   "execution_count": 6,
   "id": "0eebb492-bc43-4ec3-b6c5-1835fefaf464",
   "metadata": {},
   "outputs": [
    {
     "name": "stdin",
     "output_type": "stream",
     "text": [
      "Enter a number 5\n"
     ]
    },
    {
     "name": "stdout",
     "output_type": "stream",
     "text": [
      "120\n"
     ]
    }
   ],
   "source": [
    "# 3.Calclate the factorial of a number using a for loop.\n",
    "\n",
    "a=int(input(\"Enter a number\"))\n",
    "facto=1\n",
    "for i in range(a,0,-1):\n",
    "    facto=facto*i\n",
    "print(facto)    \n",
    "    "
   ]
  },
  {
   "cell_type": "code",
   "execution_count": 7,
   "id": "30877513-3608-4c00-b4b3-7198c8da9c45",
   "metadata": {},
   "outputs": [
    {
     "name": "stdin",
     "output_type": "stream",
     "text": [
      "Enter string =  aman bhaii h kkay \n"
     ]
    },
    {
     "name": "stdout",
     "output_type": "stream",
     "text": [
      "Number of vowels are =  6\n"
     ]
    }
   ],
   "source": [
    "# 4. Count the number of vowel in a string using a for loop.\n",
    "\n",
    "string_1=input(\"Enter string = \")\n",
    "vowels=0\n",
    "for i in string_1:\n",
    "      if(i=='a' or i=='e' or i=='i' or i=='o' or i=='u' or i=='A' or i=='E' or i=='I' or i=='O' or i=='U'):\n",
    "            vowels=vowels+1\n",
    "print(\"Number of vowels are = \",vowels)\n"
   ]
  },
  {
   "cell_type": "code",
   "execution_count": 13,
   "id": "e283146f-18e4-454f-880e-b71c3101d27d",
   "metadata": {},
   "outputs": [
    {
     "name": "stdout",
     "output_type": "stream",
     "text": [
      "* * * * * \n",
      "* * * * * \n",
      "* * * * * \n",
      "* * * * * \n",
      "* * * * * \n"
     ]
    }
   ],
   "source": [
    "# 5.Print a pattern using nested loop.\n",
    "\n",
    "for i in range(1,6):\n",
    "    for j in range(1,6):\n",
    "        print(\"*\",end=\" \")\n",
    "    print()    "
   ]
  },
  {
   "cell_type": "code",
   "execution_count": 2,
   "id": "504e4aa2-5822-4c4c-bb07-4d3ec626e8c4",
   "metadata": {},
   "outputs": [
    {
     "name": "stdin",
     "output_type": "stream",
     "text": [
      "Enter a number =  5\n"
     ]
    },
    {
     "name": "stdout",
     "output_type": "stream",
     "text": [
      "multiplication table of 5\n",
      "5 * 1 = 5\n",
      "5 * 2 = 10\n",
      "5 * 3 = 15\n",
      "5 * 4 = 20\n",
      "5 * 5 = 25\n",
      "5 * 6 = 30\n",
      "5 * 7 = 35\n",
      "5 * 8 = 40\n",
      "5 * 9 = 45\n",
      "5 * 10 = 50\n"
     ]
    }
   ],
   "source": [
    "#  6.Generate a mltiplication table using nested loop.\n",
    "\n",
    "a=int(input(\"Enter a number = \"))\n",
    "for i in range(a,a+1):\n",
    "    print(\"multiplication table of\",a)\n",
    "    for j in range(1,11):\n",
    "      print(i ,\"*\", j , \"=\", i*j)"
   ]
  },
  {
   "cell_type": "code",
   "execution_count": null,
   "id": "cfe1bcf6-d08a-476b-b06f-1af026f1166a",
   "metadata": {},
   "outputs": [],
   "source": []
  }
 ],
 "metadata": {
  "kernelspec": {
   "display_name": "Python 3 (ipykernel)",
   "language": "python",
   "name": "python3"
  },
  "language_info": {
   "codemirror_mode": {
    "name": "ipython",
    "version": 3
   },
   "file_extension": ".py",
   "mimetype": "text/x-python",
   "name": "python",
   "nbconvert_exporter": "python",
   "pygments_lexer": "ipython3",
   "version": "3.10.8"
  }
 },
 "nbformat": 4,
 "nbformat_minor": 5
}
